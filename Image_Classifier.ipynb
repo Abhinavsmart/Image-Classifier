{
  "nbformat": 4,
  "nbformat_minor": 0,
  "metadata": {
    "colab": {
      "name": "Image Classifier",
      "provenance": [],
      "collapsed_sections": []
    },
    "kernelspec": {
      "display_name": "Python 3",
      "name": "python3"
    }
  },
  "cells": [
    {
      "cell_type": "code",
      "metadata": {
        "id": "Of60BJ2WefJj",
        "colab": {
          "base_uri": "https://localhost:8080/"
        },
        "outputId": "c617aeda-359f-4f17-b610-12104528c34a"
      },
      "source": [
        "# Data: Images\r\n",
        "# 1. download data set from internet source\r\n",
        "# 2. web scraping for data ( dta Gathering )"
      ],
      "execution_count": null,
      "outputs": [
        {
          "output_type": "stream",
          "text": [
            "time: 1.37 ms (started: 2021-03-15 12:02:14 +00:00)\n"
          ],
          "name": "stdout"
        }
      ]
    },
    {
      "cell_type": "code",
      "metadata": {
        "colab": {
          "base_uri": "https://localhost:8080/"
        },
        "id": "dTpPdQg2gA9D",
        "outputId": "31cd0926-e6cd-4830-a258-352b405af2ea"
      },
      "source": [
        "!pip install bing-image-downloader"
      ],
      "execution_count": null,
      "outputs": [
        {
          "output_type": "stream",
          "text": [
            "Requirement already satisfied: bing-image-downloader in /usr/local/lib/python3.7/dist-packages (1.0.4)\n",
            "time: 3.04 s (started: 2021-03-15 12:02:14 +00:00)\n"
          ],
          "name": "stdout"
        }
      ]
    },
    {
      "cell_type": "code",
      "metadata": {
        "id": "iEenEJs9gImB",
        "colab": {
          "base_uri": "https://localhost:8080/"
        },
        "outputId": "7e5daa91-8213-45ff-85bc-49ca6aa031e6"
      },
      "source": [
        "# make image directory\r\n",
        "!mkdir images"
      ],
      "execution_count": null,
      "outputs": [
        {
          "output_type": "stream",
          "text": [
            "mkdir: cannot create directory ‘images’: File exists\n",
            "time: 133 ms (started: 2021-03-15 12:02:18 +00:00)\n"
          ],
          "name": "stdout"
        }
      ]
    },
    {
      "cell_type": "code",
      "metadata": {
        "colab": {
          "base_uri": "https://localhost:8080/"
        },
        "id": "JVERUrvmgM7c",
        "outputId": "cd90495f-34b6-419a-dd9a-c0cf5ee1abbb"
      },
      "source": [
        "# for more info go to pypi.org type bing image downloader for whole command\r\n",
        "from bing_image_downloader import downloader\r\n",
        "downloader.download(\"Preety sunflower\", limit=40, output_dir='images', adult_filter_off= True)"
      ],
      "execution_count": null,
      "outputs": [
        {
          "output_type": "stream",
          "text": [
            "\n",
            "\n",
            "[!!]Indexing page: 1\n",
            "\n",
            "[%] Indexed 40 Images on Page 1.\n",
            "\n",
            "===============================================\n",
            "\n",
            "[%] Downloading Image #1 from http://4.bp.blogspot.com/-EvQYk5Z2ISQ/TV1Y6C9VAlI/AAAAAAAAADA/0PviOUYUjU8/s1600/Sunflower.jpg\n",
            "[%] File Downloaded !\n",
            "\n",
            "[%] Downloading Image #2 from https://cdns.abclocal.go.com/content/wtvd/images/cms/2185472_1280x720.jpg\n",
            "[%] File Downloaded !\n",
            "\n",
            "[%] Downloading Image #3 from http://garden.org/pics/2015-05-31/phoebesviolets/a9098c.jpg\n",
            "[%] File Downloaded !\n",
            "\n",
            "[%] Downloading Image #4 from https://i.pinimg.com/originals/3f/f0/1d/3ff01d5b9f1f16e92197140a31c5345e.jpg\n",
            "[%] File Downloaded !\n",
            "\n",
            "[%] Downloading Image #5 from https://i.pinimg.com/736x/23/69/63/23696333831560e5a3853af4d191ff6b--pretty-flowers-sunflowers.jpg\n",
            "[%] File Downloaded !\n",
            "\n",
            "[%] Downloading Image #6 from https://garden.org/pics/2015-05-31/phoebesviolets/9ddf91.jpg\n",
            "[%] File Downloaded !\n",
            "\n",
            "[%] Downloading Image #7 from https://i.pinimg.com/originals/9c/02/5b/9c025b5c0a26aff3da57515b357493c8.jpg\n",
            "[%] File Downloaded !\n",
            "\n",
            "[%] Downloading Image #8 from https://i.pinimg.com/originals/f0/0e/a5/f00ea52934ea6f5fbeaf3c91f707d690.jpg\n",
            "[%] File Downloaded !\n",
            "\n",
            "[%] Downloading Image #9 from https://i.pinimg.com/originals/19/59/32/195932e527c4cd0542d80f02c0af48ca.jpg\n",
            "[%] File Downloaded !\n",
            "\n",
            "[%] Downloading Image #10 from https://4.bp.blogspot.com/-Uh1HTy66p7I/TkY6vYCvWjI/AAAAAAAAD0c/ny_MXcFowLE/s1600/sunflower_wallpaper_2069.JPG\n",
            "[%] File Downloaded !\n",
            "\n",
            "[%] Downloading Image #11 from https://preppywallpapers.com/wp-content/uploads/2019/08/Sunflower-iPhone-Wallpapers.jpg\n",
            "[%] File Downloaded !\n",
            "\n",
            "[%] Downloading Image #12 from https://cdn-0.preppywallpapers.com/wp-content/uploads/2019/08/Sunflower-iPhone-Wallpaper-10.jpg\n",
            "[%] File Downloaded !\n",
            "\n",
            "[%] Downloading Image #13 from http://www.photographyblogger.net/wp-content/uploads/2010/10/sunflower11.jpg\n",
            "[%] File Downloaded !\n",
            "\n",
            "[%] Downloading Image #14 from https://i.pinimg.com/originals/19/d7/84/19d7844df6183325a92a6be62dc590a6.jpg\n",
            "[%] File Downloaded !\n",
            "\n",
            "[%] Downloading Image #15 from http://getwallpapers.com/wallpaper/full/3/0/0/820319-download-sunflowers-wallpaper-2048x1361-lockscreen.jpg\n",
            "[%] File Downloaded !\n",
            "\n",
            "[%] Downloading Image #16 from https://i.pinimg.com/originals/0b/ed/24/0bed24b65ae57cd703dc7a9190d6d29f.jpg\n",
            "[%] File Downloaded !\n",
            "\n",
            "[%] Downloading Image #17 from https://i.pinimg.com/originals/b8/76/e1/b876e14a6ac828d36bff102a7a8a3794.jpg\n",
            "[%] File Downloaded !\n",
            "\n",
            "[%] Downloading Image #18 from https://i.pinimg.com/originals/f3/8e/1f/f38e1fd98f45e238ffa6132ca68676f8.jpg\n",
            "[%] File Downloaded !\n",
            "\n",
            "[%] Downloading Image #19 from http://upload.wikimedia.org/wikipedia/commons/3/34/Beautiful_sunflowers.jpg\n",
            "[%] File Downloaded !\n",
            "\n",
            "[%] Downloading Image #20 from https://i.pinimg.com/originals/02/8a/40/028a408660c210f1ee5c6f2a5103cfee.jpg\n",
            "[%] File Downloaded !\n",
            "\n",
            "[%] Downloading Image #21 from https://i.pinimg.com/originals/d2/fd/0c/d2fd0c237ef41f284d8e8d71b87f5eeb.jpg\n",
            "[%] File Downloaded !\n",
            "\n",
            "[%] Downloading Image #22 from https://i.pinimg.com/originals/e1/05/83/e10583609e9b146022a51f34ced98536.jpg\n",
            "[%] File Downloaded !\n",
            "\n",
            "[%] Downloading Image #23 from http://garden.org/pics/2013-12-19/Newyorkrita/38d0cc.jpg\n",
            "[%] File Downloaded !\n",
            "\n",
            "[%] Downloading Image #24 from https://i.pinimg.com/originals/d2/44/f2/d244f23d41459219f564ad29abd9a217.jpg\n",
            "[%] File Downloaded !\n",
            "\n",
            "[%] Downloading Image #25 from http://www.pursuingpretty.com/wp-content/uploads/2018/08/MG_0957-684x1024.jpg\n",
            "[%] File Downloaded !\n",
            "\n",
            "[%] Downloading Image #26 from https://i.pinimg.com/originals/bf/43/c1/bf43c1a18bb9ca4ec14b4eb555d1fed4.jpg\n",
            "[%] File Downloaded !\n",
            "\n",
            "[%] Downloading Image #27 from https://cdn.pixabay.com/photo/2014/04/05/12/27/sunflowers-317031_960_720.jpg\n",
            "[%] File Downloaded !\n",
            "\n",
            "[%] Downloading Image #28 from https://i.pinimg.com/736x/ce/0d/3d/ce0d3dd49836e6074ab59fe37d34cf73.jpg\n",
            "[%] File Downloaded !\n",
            "\n",
            "[%] Downloading Image #29 from https://patchoguearts.org/wp-content/uploads/Pretty-Sunflower.jpg\n",
            "[%] File Downloaded !\n",
            "\n",
            "[%] Downloading Image #30 from https://i.pinimg.com/originals/5a/70/49/5a70497d32b8d691cb2273b53eb987a8.jpg\n",
            "[%] File Downloaded !\n",
            "\n",
            "[%] Downloading Image #31 from https://i.pinimg.com/originals/65/9d/1e/659d1eabdb8bb64747acf590d345bc53.jpg\n",
            "[%] File Downloaded !\n",
            "\n",
            "[%] Downloading Image #32 from https://i.pinimg.com/originals/e5/15/b0/e515b08d64076aeddc391706035cea1e.jpg\n",
            "[%] File Downloaded !\n",
            "\n",
            "[%] Downloading Image #33 from http://www.beautifulflowerpictures.com/blog/wp-content/uploads/2014/08/2014_07_sunflower_0388-e1406906299456.jpg\n",
            "[%] File Downloaded !\n",
            "\n",
            "[%] Downloading Image #34 from https://i.ytimg.com/vi/CZBPoY040iY/maxresdefault.jpg\n",
            "[%] File Downloaded !\n",
            "\n",
            "[%] Downloading Image #35 from https://live.staticflickr.com/1413/1126668188_69fe9a68a2_b.jpg\n",
            "[%] File Downloaded !\n",
            "\n",
            "[%] Downloading Image #36 from http://www.incrediblesnaps.com/wp-content/uploads/2013/11/Beautiful-Pictures-of-Sunflowers-12.jpg\n",
            "[%] File Downloaded !\n",
            "\n",
            "[%] Downloading Image #37 from https://s-media-cache-ak0.pinimg.com/736x/05/23/8c/05238c4cd8e098bd126c1cee9c706806--sun-flowers-pretty-flowers.jpg\n",
            "[%] File Downloaded !\n",
            "\n",
            "[%] Downloading Image #38 from http://4.bp.blogspot.com/_W5lGWFz2VV4/TK5PqUu-ZTI/AAAAAAAAA-Q/rQXb9VnKUDc/s1600/_MG_3422+copy.jpg\n",
            "[%] File Downloaded !\n",
            "\n",
            "[%] Downloading Image #39 from https://i.pinimg.com/originals/a4/af/3d/a4af3de2bb6739fb9b84dc76445b624d.jpg\n",
            "[%] File Downloaded !\n",
            "\n",
            "[%] Downloading Image #40 from https://live.staticflickr.com/6006/5974884640_c7d6de5dff_b.jpg\n",
            "[%] File Downloaded !\n",
            "\n",
            "time: 10.5 s (started: 2021-03-15 12:02:22 +00:00)\n"
          ],
          "name": "stdout"
        }
      ]
    },
    {
      "cell_type": "code",
      "metadata": {
        "colab": {
          "base_uri": "https://localhost:8080/"
        },
        "id": "WA4WSQGBiA3Y",
        "outputId": "43f01582-082a-4d12-ce2d-46436652dc71"
      },
      "source": [
        "# for more info go to pypi.org type bing image downloader for whole command\r\n",
        "downloader.download(\"rugby ball leather\", limit=40, output_dir='images', adult_filter_off= True)"
      ],
      "execution_count": null,
      "outputs": [
        {
          "output_type": "stream",
          "text": [
            "\n",
            "\n",
            "[!!]Indexing page: 1\n",
            "\n",
            "[%] Indexed 40 Images on Page 1.\n",
            "\n",
            "===============================================\n",
            "\n",
            "[%] Downloading Image #1 from https://cdn.shopify.com/s/files/1/0788/5979/products/mvp-leather-balls-heritage-leather-rugby-ball-2_2048x.jpg?v=1550134680\n",
            "[%] File Downloaded !\n",
            "\n",
            "[%] Downloading Image #2 from https://cdn.shopify.com/s/files/1/0788/5979/products/mvp-leather-balls-heritage-leather-rugby-ball-1_2356x.jpg?v=1550134680\n",
            "[%] File Downloaded !\n",
            "\n",
            "[%] Downloading Image #3 from https://cdn.notonthehighstreet.com/fs/66/7f/caf0-7c5a-45fa-a436-44b52ec027a6/original_ram-rugby-vintage-leather-rugby-ball.jpg\n",
            "[%] File Downloaded !\n",
            "\n",
            "[%] Downloading Image #4 from https://cdn.shopify.com/s/files/1/0788/5979/products/mvp-leather-balls-brown-cream-leather-rugby-ball-1_2048x.jpg?v=1550134649\n",
            "[%] File Downloaded !\n",
            "\n",
            "[%] Downloading Image #5 from https://cdn.shopify.com/s/files/1/0788/5979/products/mvp-leather-balls-deluxe-leather-rugby-ball-1_2356x.jpg?v=1551767452\n",
            "[%] File Downloaded !\n",
            "\n",
            "[%] Downloading Image #6 from http://www.webbellisrugby.co.uk/wp-content/uploads/2016/04/leather-rugby-ball-puntabout.jpg\n",
            "[%] File Downloaded !\n",
            "\n",
            "[%] Downloading Image #7 from https://cdn.notonthehighstreet.com/system/product_images/images/000/393/351/original_CF016852.jpg\n",
            "[%] File Downloaded !\n",
            "\n",
            "[%] Downloading Image #8 from https://cdn1.bigcommerce.com/server1000/4dd02/images/stencil/1000x1000/products/682/3492/_MG_0374v2__78298.1332357807.jpg?c=2\n",
            "[%] File Downloaded !\n",
            "\n",
            "[%] Downloading Image #9 from https://images.footballfanatics.com/england-rugby/england-heritage-leather-rugby-ball_ss4_p-11915081+u-i1yzm7ua8msrxcp06yj2+v-79898d6efb7f4d5187711b139f60f3f8.jpg?_hv=1\n",
            "[%] File Downloaded !\n",
            "\n",
            "[%] Downloading Image #10 from https://sportantiques.co.uk/pub/media/catalog/product/2/5/sportantiques-388204978303.jpg\n",
            "[%] File Downloaded !\n",
            "\n",
            "[%] Downloading Image #11 from https://sportantiques.co.uk/pub/media/catalog/product/2/5/sportantiques-388204978297.jpg\n",
            "[%] File Downloaded !\n",
            "\n",
            "[%] Downloading Image #12 from https://www.jmsrugby.co.uk/images/leather-vintage-rugby-ball-p6883-4998_image.jpg\n",
            "[%] File Downloaded !\n",
            "\n",
            "[%] Downloading Image #13 from https://cdn.notonthehighstreet.com/system/product_images/images/000/640/511/original_IMG_4159.jpg\n",
            "[%] File Downloaded !\n",
            "\n",
            "[%] Downloading Image #14 from https://cdn.shopify.com/s/files/1/0788/5979/products/mvp-leather-balls-brown-cream-leather-rugby-ball-2_2048x.jpg?v=1550134649\n",
            "[%] File Downloaded !\n",
            "\n",
            "[%] Downloading Image #15 from https://cdn.shopify.com/s/files/1/0226/2169/products/Chromexcel_2048x2048_V1_1024x1024.jpg?v=1511272698\n",
            "[%] File Downloaded !\n",
            "\n",
            "[%] Downloading Image #16 from http://images.esellerpro.com/2718/I/876/62/GIL-82001001%20New.jpg\n",
            "[%] File Downloaded !\n",
            "\n",
            "[%] Downloading Image #17 from https://cdn.shopify.com/s/files/1/0020/1025/1324/products/Vitnage_Brown_Leather_Rugby_Ball_36fcfbe7-d899-4540-9aa6-80ce8e2a0168_1024x1024.jpg?v=1554242167\n",
            "[%] File Downloaded !\n",
            "\n",
            "[%] Downloading Image #18 from http://www.kraveantiques.co.uk/images/products/Brown-Rugby-Ball-1455-12.jpg\n",
            "[%] File Downloaded !\n",
            "\n",
            "[%] Downloading Image #19 from https://cdn.shopify.com/s/files/1/0788/5979/products/mvp-leather-balls-executive-leather-rugby-ball-1_2048x.jpg?v=1550134670\n",
            "[%] File Downloaded !\n",
            "\n",
            "[%] Downloading Image #20 from https://i.pinimg.com/originals/8a/04/21/8a04218bea6666686b6258c88b64cd92.jpg\n",
            "[%] File Downloaded !\n",
            "\n",
            "[%] Downloading Image #21 from https://www.imagehandler.net/?iset=0303&amp;img=A62476000&amp;fmt=jpg&amp;w=600&amp;h=600&amp;iindex=0062&amp;c=999&amp;cmp=100\n",
            "[!] Issue getting: https://www.imagehandler.net/?iset=0303&amp;img=A62476000&amp;fmt=jpg&amp;w=600&amp;h=600&amp;iindex=0062&amp;c=999&amp;cmp=100\n",
            "[!] Error:: HTTP Error 403: Forbidden\n",
            "[%] Downloading Image #21 from https://cdn.notonthehighstreet.com/system/product_images/images/001/380/249/original_hand-sewn-leather-rugby-ball.jpg\n",
            "[%] File Downloaded !\n",
            "\n",
            "[%] Downloading Image #22 from https://sportantiques.co.uk/pub/media/catalog/product/2/5/sportantiques-388204978310.jpg\n",
            "[%] File Downloaded !\n",
            "\n",
            "[%] Downloading Image #23 from https://2.imimg.com/data2/CM/KH/MY-2811504/leather-rugby-ball-500x500.jpg\n",
            "[%] File Downloaded !\n",
            "\n",
            "[%] Downloading Image #24 from https://images-na.ssl-images-amazon.com/images/I/51bybBBUqPL._SY300_.jpg\n",
            "[%] File Downloaded !\n",
            "\n",
            "[%] Downloading Image #25 from https://webassets.cyranecloud.com/morrant/prdd78f4d41-d064-4843-ad46-78a35d43bacc.jpg\n",
            "[%] File Downloaded !\n",
            "\n",
            "[%] Downloading Image #26 from https://homebarnshop.co.uk/wp-content/uploads/2017/11/fullsizeoutput_2028-e1510939138773.jpeg\n",
            "[%] File Downloaded !\n",
            "\n",
            "[%] Downloading Image #27 from https://made4men.co.uk/WebRoot/Store25/Shops/939ecbb5-7a19-4442-aac2-0e3854fcf7e5/57F5/0012/B119/F91F/B653/0A48/355E/2C1C/LEATHER_RUGBY.jpg\n",
            "[%] File Downloaded !\n",
            "\n",
            "[%] Downloading Image #28 from http://i.ebayimg.com/images/i/192098916483-0-1/s-l1000.jpg\n",
            "[%] File Downloaded !\n",
            "\n",
            "[%] Downloading Image #29 from http://skbassansports.com/wp-content/uploads/2019/01/DSC_0173-copy.png\n",
            "[%] File Downloaded !\n",
            "\n",
            "[%] Downloading Image #30 from https://rugbysklep.pl/eng_pm_GILBERT-LEATHER-VINTAGE-RUGBY-BALL-582_1.jpg\n",
            "[%] File Downloaded !\n",
            "\n",
            "[%] Downloading Image #31 from https://sportantiques.co.uk/pub/media/catalog/product/2/5/sportantiques-388204978305.jpg\n",
            "[%] File Downloaded !\n",
            "\n",
            "[%] Downloading Image #32 from https://www.ruckfield.com/media/catalog/product/cache/2/image/3000x/040ec09b1e35df139433887a97daa66f/1/8/18e_h0004143_099_face.jpg\n",
            "[%] File Downloaded !\n",
            "\n",
            "[%] Downloading Image #33 from https://cdn.notonthehighstreet.com/fs/b5/3e/6ccd-c899-432f-8fa0-b66e26dd8de2/original_personalised-vintage-leather-rugby-ball.jpg\n",
            "[%] File Downloaded !\n",
            "\n",
            "[%] Downloading Image #34 from https://webassets.cyranecloud.com/morrant/prde5ee1472-828d-4733-9669-57d67d15a8f0.jpg\n",
            "[%] File Downloaded !\n",
            "\n",
            "[%] Downloading Image #35 from http://cdn.shopify.com/s/files/1/0226/2169/products/Merlot_1024x1024.jpg?v=1459261329\n",
            "[%] File Downloaded !\n",
            "\n",
            "[%] Downloading Image #36 from https://thefancy-media-ec.thefancy.com/original/20170512/1418977563723694651_121276ffe087.jpg\n",
            "[%] File Downloaded !\n",
            "\n",
            "[%] Downloading Image #37 from https://sportantiques.co.uk/pub/media/catalog/product/2/5/sportantiques-388204978299.jpg\n",
            "[%] File Downloaded !\n",
            "\n",
            "[%] Downloading Image #38 from https://cdn.shopify.com/s/files/1/0226/2169/products/Chromexcel_2048x2048_V2_760x.jpg?v=1511272699\n",
            "[%] File Downloaded !\n",
            "\n",
            "[%] Downloading Image #39 from https://cdn.shopify.com/s/files/1/0072/5064/1005/products/sku_UENTBRN028_color_COGNAC_01_3000x.progressive.jpg?v=1600361190\n",
            "[%] File Downloaded !\n",
            "\n",
            "\n",
            "\n",
            "[!!]Indexing page: 2\n",
            "\n",
            "[%] Indexed 35 Images on Page 2.\n",
            "\n",
            "===============================================\n",
            "\n",
            "[%] Downloading Image #40 from https://cdn.shopify.com/s/files/1/0788/5979/products/mvp-leather-balls-heritage-leather-rugby-ball-1_2356x.jpg?v=1550134680\n",
            "[%] File Downloaded !\n",
            "\n",
            "\n",
            "\n",
            "[%] Done. Downloaded 40 images.\n",
            "\n",
            "===============================================\n",
            "\n",
            "time: 20.2 s (started: 2021-03-15 12:03:38 +00:00)\n"
          ],
          "name": "stdout"
        }
      ]
    },
    {
      "cell_type": "code",
      "metadata": {
        "colab": {
          "base_uri": "https://localhost:8080/"
        },
        "id": "sTc21d8EiONr",
        "outputId": "c8c94847-0b0f-498f-f836-39ecfa761686"
      },
      "source": [
        "# for more info go to pypi.org type bing image downloader for whole command\r\n",
        "downloader.download(\"Icecream cone\", limit=40, output_dir='images', adult_filter_off= True)"
      ],
      "execution_count": null,
      "outputs": [
        {
          "output_type": "stream",
          "text": [
            "\n",
            "\n",
            "[!!]Indexing page: 1\n",
            "\n",
            "[%] Indexed 40 Images on Page 1.\n",
            "\n",
            "===============================================\n",
            "\n",
            "[%] Downloading Image #1 from http://graphics8.nytimes.com/images/2013/06/02/magazine/02wmt/02wmt-superJumbo-v3.jpg\n",
            "[%] File Downloaded !\n",
            "\n",
            "[%] Downloading Image #2 from https://www.courtneyssweets.com/wp-content/uploads/2016/10/Chocolate-Filled-Ice-Cream-Cones-2.jpg\n",
            "[%] File Downloaded !\n",
            "\n",
            "[%] Downloading Image #3 from https://www.cravingsofalunatic.com/wp-content/uploads/2016/03/Ice-Cream-Cone-Cupcakes-3.jpg\n",
            "[%] File Downloaded !\n",
            "\n",
            "[%] Downloading Image #4 from https://purepng.com/public/uploads/medium/chocolate-ice-cream-cone-nzm.png\n",
            "[%] File Downloaded !\n",
            "\n",
            "[%] Downloading Image #5 from https://cmkt-image-prd.freetls.fastly.net/0.1.0/ps/7468873/1820/2862/m1/fpnw/wm1/en4hrj6n9vxfmcipirsxu0rgujs058nqxn3cteatfuq0lbgrwwequzjiisbj3ymi-.jpg?1576506367&amp;s=19603b99a32c1de5c0fd1e690ba16b1f\n",
            "[!] Issue getting: https://cmkt-image-prd.freetls.fastly.net/0.1.0/ps/7468873/1820/2862/m1/fpnw/wm1/en4hrj6n9vxfmcipirsxu0rgujs058nqxn3cteatfuq0lbgrwwequzjiisbj3ymi-.jpg?1576506367&amp;s=19603b99a32c1de5c0fd1e690ba16b1f\n",
            "[!] Error:: HTTP Error 403: Forbidden\n",
            "[%] Downloading Image #5 from https://www.courtneyssweets.com/wp-content/uploads/2016/10/Chocolate-Filled-Ice-Cream-Cones-1.jpg\n",
            "[%] File Downloaded !\n",
            "\n",
            "[%] Downloading Image #6 from https://purepng.com/public/uploads/medium/pink-creamy-ice-cream-cone-vsk.png\n",
            "[%] File Downloaded !\n",
            "\n",
            "[%] Downloading Image #7 from https://www.webstaurantstore.com/images/products/extra_large/123848/944576.jpg\n",
            "[%] File Downloaded !\n",
            "\n",
            "[%] Downloading Image #8 from http://4.bp.blogspot.com/-NWgPAda_Mas/VObrOYGy7qI/AAAAAAAAptQ/1u5ijmftcpw/s1600/P1530546.JPG\n",
            "[%] File Downloaded !\n",
            "\n",
            "[%] Downloading Image #9 from http://shewearsmanyhats.com/wp-content/uploads/2013/07/dipped-ice-cream-cones-7.jpg\n",
            "[%] File Downloaded !\n",
            "\n",
            "[%] Downloading Image #10 from https://cdn-image.foodandwine.com/sites/default/files/1497371785/ice-cream-cones-history-FT-BLOG0617.jpg\n",
            "[%] File Downloaded !\n",
            "\n",
            "[%] Downloading Image #11 from https://upload.wikimedia.org/wikipedia/commons/d/da/Strawberry_ice_cream_cone_(5076899310).jpg\n",
            "[%] File Downloaded !\n",
            "\n",
            "[%] Downloading Image #12 from https://www.publicdomainpictures.net/pictures/180000/velka/ice-cream-in-a-cone.jpg\n",
            "[%] File Downloaded !\n",
            "\n",
            "[%] Downloading Image #13 from http://www.thecomfortofcooking.com/wp-content/uploads/2016/01/HomemadeVanillaDrumstickIceCreamCones-2.jpg\n",
            "[%] File Downloaded !\n",
            "\n",
            "[%] Downloading Image #14 from https://cmkt-image-prd.freetls.fastly.net/0.1.0/ps/4363477/1820/2515/m1/fpnw/wm1/yopkn719kfmeteuskryzlttgadzrpqdejyql6byzkq5mti1y23tyfxcpvdhnrkqm-.jpg?1524740440&amp;s=5d2b4ad5906083aaa5736689141dfead\n",
            "[!] Issue getting: https://cmkt-image-prd.freetls.fastly.net/0.1.0/ps/4363477/1820/2515/m1/fpnw/wm1/yopkn719kfmeteuskryzlttgadzrpqdejyql6byzkq5mti1y23tyfxcpvdhnrkqm-.jpg?1524740440&amp;s=5d2b4ad5906083aaa5736689141dfead\n",
            "[!] Error:: HTTP Error 403: Forbidden\n",
            "[%] Downloading Image #14 from https://jellytoastblog.com/wp-content/uploads/2016/06/marshmallow-dipped-ice-cream-cones-6-of-11.jpg\n",
            "[%] File Downloaded !\n",
            "\n",
            "[%] Downloading Image #15 from http://www.camdenac.com/wp-content/uploads/2017/05/7-scoop-ice-cream-cone.jpg\n",
            "[%] File Downloaded !\n",
            "\n",
            "[%] Downloading Image #16 from http://www.thecomfortofcooking.com/wp-content/uploads/2016/01/HomemadeVanillaDrumstickIceCreamCones-1.jpg\n",
            "[%] File Downloaded !\n",
            "\n",
            "[%] Downloading Image #17 from http://www.thecomfortofcooking.com/wp-content/uploads/2016/01/HomemadeVanillaDrumstickIceCreamCones-3.jpg\n",
            "[%] File Downloaded !\n",
            "\n",
            "[%] Downloading Image #18 from https://www.webstaurantstore.com/images/products/extra_large/123922/1914519.jpg\n",
            "[%] File Downloaded !\n",
            "\n",
            "[%] Downloading Image #19 from http://www.simplyscratch.com/wp-content/uploads/2012/07/fun-cones.jpg\n",
            "[%] File Downloaded !\n",
            "\n",
            "[%] Downloading Image #20 from https://images.fineartamerica.com/images/artworkimages/mediumlarge/1/strawberry-cherry-ice-cream-cone-donald-erickson.jpg\n",
            "[%] File Downloaded !\n",
            "\n",
            "[%] Downloading Image #21 from https://procaffenation.com/wp-content/uploads/2017/04/22-1.jpg\n",
            "[%] File Downloaded !\n",
            "\n",
            "[%] Downloading Image #22 from https://d2rd7etdn93tqb.cloudfront.net/wp-content/uploads/2016/06/ice-cream-cones-062816.jpg\n",
            "[%] File Downloaded !\n",
            "\n",
            "[%] Downloading Image #23 from https://amindfullmom.com/wp-content/uploads/2016/06/Dairy-Free-Homemade-Drumstick-Ice-Cream-Cone.jpg\n",
            "[%] File Downloaded !\n",
            "\n",
            "[%] Downloading Image #24 from http://bostononbudget.com/wp-content/uploads/2015/05/Friendlys-Ice-Cream-Cone.jpg\n",
            "[%] File Downloaded !\n",
            "\n",
            "[%] Downloading Image #25 from http://www.foodrepublic.com/wp-content/uploads/2016/08/cones_mainimage.jpg\n",
            "[%] File Downloaded !\n",
            "\n",
            "[%] Downloading Image #26 from https://jellytoastblog.com/wp-content/uploads/2016/06/marshmallow-dipped-ice-cream-cones-8-of-11.jpg\n",
            "[%] File Downloaded !\n",
            "\n",
            "[%] Downloading Image #27 from http://3.bp.blogspot.com/-FoChWClRtqc/UayKxyzjFMI/AAAAAAAAD3Y/oiAS1Vo3vNw/s1600/mm45.jpg\n",
            "[%] File Downloaded !\n",
            "\n",
            "[%] Downloading Image #28 from https://cmkt-image-prd.freetls.fastly.net/0.1.0/ps/6764199/1820/2513/m1/fpnw/wm1/sktcxnzidikme27mmrf4adkfk0cdxeuiwohfkc0wapszykzutcv9wqttbdonqiwt-.jpg?1564663010&amp;s=01941ff405abf215d3c0ee7c7fe7077a\n",
            "[!] Issue getting: https://cmkt-image-prd.freetls.fastly.net/0.1.0/ps/6764199/1820/2513/m1/fpnw/wm1/sktcxnzidikme27mmrf4adkfk0cdxeuiwohfkc0wapszykzutcv9wqttbdonqiwt-.jpg?1564663010&amp;s=01941ff405abf215d3c0ee7c7fe7077a\n",
            "[!] Error:: HTTP Error 403: Forbidden\n",
            "[%] Downloading Image #28 from http://www.ladybehindthecurtain.com/wp-content/uploads/2017/09/Old-Fashioned-Marshmallow-Filled-Ice-Cream-Cones-4.jpg\n",
            "[%] File Downloaded !\n",
            "\n",
            "[%] Downloading Image #29 from https://www.procaffenation.com/wp-content/uploads/2017/04/21-compressor-1.jpg\n",
            "[%] File Downloaded !\n",
            "\n",
            "[%] Downloading Image #30 from https://blog.thepopcornfactory.com/wp-content/uploads/2013/06/Ice-Cream-Cone-Made-With-a-Chocolate-Covered-Popcorn-Ball.jpg\n",
            "[%] File Downloaded !\n",
            "\n",
            "[%] Downloading Image #31 from http://shewearsmanyhats.com/wp-content/uploads/2013/07/dipped-ice-cream-cones-6.jpg\n",
            "[%] File Downloaded !\n",
            "\n",
            "[%] Downloading Image #32 from http://shewearsmanyhats.com/wp-content/uploads/2013/07/dipped-ice-cream-cones-1.jpg\n",
            "[%] File Downloaded !\n",
            "\n",
            "[%] Downloading Image #33 from https://pixfeeds.com/images/desserts/ice-creams/1280-177118229-ice-cream-cone.jpg\n",
            "[%] File Downloaded !\n",
            "\n",
            "[%] Downloading Image #34 from https://reneenicoleskitchen.com/wp-content/uploads/2017/05/Dipped-Ice-Cream-Cones-Image-2.jpg\n",
            "[%] File Downloaded !\n",
            "\n",
            "[%] Downloading Image #35 from http://www.pngmart.com/files/3/Ice-Cream-Cone-PNG-Transparent-Image.png\n",
            "[%] File Downloaded !\n",
            "\n",
            "[%] Downloading Image #36 from http://www.thecomfortofcooking.com/wp-content/uploads/2016/01/HomemadeVanillaDrumstickIceCreamCones-4.jpg\n",
            "[%] File Downloaded !\n",
            "\n",
            "[%] Downloading Image #37 from https://purepng.com/public/uploads/medium/white-ice-cream-cone-bli.png\n",
            "[%] File Downloaded !\n",
            "\n",
            "\n",
            "\n",
            "[!!]Indexing page: 2\n",
            "\n",
            "[%] Indexed 35 Images on Page 2.\n",
            "\n",
            "===============================================\n",
            "\n",
            "[%] Downloading Image #38 from http://graphics8.nytimes.com/images/2013/06/02/magazine/02wmt/02wmt-superJumbo-v3.jpg\n",
            "[%] File Downloaded !\n",
            "\n",
            "[%] Downloading Image #39 from https://cdn-image.foodandwine.com/sites/default/files/1497371785/ice-cream-cones-history-FT-BLOG0617.jpg\n",
            "[%] File Downloaded !\n",
            "\n",
            "[%] Downloading Image #40 from https://www.courtneyssweets.com/wp-content/uploads/2016/10/Chocolate-Filled-Ice-Cream-Cones-2.jpg\n",
            "[%] File Downloaded !\n",
            "\n",
            "\n",
            "\n",
            "[%] Done. Downloaded 40 images.\n",
            "\n",
            "===============================================\n",
            "\n",
            "time: 11.7 s (started: 2021-03-15 12:04:08 +00:00)\n"
          ],
          "name": "stdout"
        }
      ]
    },
    {
      "cell_type": "code",
      "metadata": {
        "colab": {
          "base_uri": "https://localhost:8080/"
        },
        "id": "_e2t-hjpiVNl",
        "outputId": "0a7e6d25-abea-48a4-945d-4c61ce48d994"
      },
      "source": [
        "# to check time of execution\r\n",
        "!pip install ipython-autotime\r\n",
        "%load_ext autotime"
      ],
      "execution_count": null,
      "outputs": [
        {
          "output_type": "stream",
          "text": [
            "Requirement already satisfied: ipython-autotime in /usr/local/lib/python3.7/dist-packages (0.3.1)\n",
            "Requirement already satisfied: ipython in /usr/local/lib/python3.7/dist-packages (from ipython-autotime) (5.5.0)\n",
            "Requirement already satisfied: simplegeneric>0.8 in /usr/local/lib/python3.7/dist-packages (from ipython->ipython-autotime) (0.8.1)\n",
            "Requirement already satisfied: pexpect; sys_platform != \"win32\" in /usr/local/lib/python3.7/dist-packages (from ipython->ipython-autotime) (4.8.0)\n",
            "Requirement already satisfied: pickleshare in /usr/local/lib/python3.7/dist-packages (from ipython->ipython-autotime) (0.7.5)\n",
            "Requirement already satisfied: prompt-toolkit<2.0.0,>=1.0.4 in /usr/local/lib/python3.7/dist-packages (from ipython->ipython-autotime) (1.0.18)\n",
            "Requirement already satisfied: pygments in /usr/local/lib/python3.7/dist-packages (from ipython->ipython-autotime) (2.6.1)\n",
            "Requirement already satisfied: setuptools>=18.5 in /usr/local/lib/python3.7/dist-packages (from ipython->ipython-autotime) (54.0.0)\n",
            "Requirement already satisfied: traitlets>=4.2 in /usr/local/lib/python3.7/dist-packages (from ipython->ipython-autotime) (5.0.5)\n",
            "Requirement already satisfied: decorator in /usr/local/lib/python3.7/dist-packages (from ipython->ipython-autotime) (4.4.2)\n",
            "Requirement already satisfied: ptyprocess>=0.5 in /usr/local/lib/python3.7/dist-packages (from pexpect; sys_platform != \"win32\"->ipython->ipython-autotime) (0.7.0)\n",
            "Requirement already satisfied: six>=1.9.0 in /usr/local/lib/python3.7/dist-packages (from prompt-toolkit<2.0.0,>=1.0.4->ipython->ipython-autotime) (1.15.0)\n",
            "Requirement already satisfied: wcwidth in /usr/local/lib/python3.7/dist-packages (from prompt-toolkit<2.0.0,>=1.0.4->ipython->ipython-autotime) (0.2.5)\n",
            "Requirement already satisfied: ipython-genutils in /usr/local/lib/python3.7/dist-packages (from traitlets>=4.2->ipython->ipython-autotime) (0.2.0)\n",
            "The autotime extension is already loaded. To reload it, use:\n",
            "  %reload_ext autotime\n",
            "time: 3.25 s (started: 2021-03-15 12:04:35 +00:00)\n"
          ],
          "name": "stdout"
        }
      ]
    },
    {
      "cell_type": "code",
      "metadata": {
        "colab": {
          "base_uri": "https://localhost:8080/"
        },
        "id": "gNJgBCkVjaAV",
        "outputId": "06f5041d-ecea-4bbe-a54d-990b10ef4a3d"
      },
      "source": [
        "import numpy as np\r\n",
        "a= np.array([[1,2,3,4,5],\r\n",
        "            [4,5,6,7,8]])\r\n",
        "a.ndim\r\n"
      ],
      "execution_count": null,
      "outputs": [
        {
          "output_type": "execute_result",
          "data": {
            "text/plain": [
              "2"
            ]
          },
          "metadata": {
            "tags": []
          },
          "execution_count": 61
        },
        {
          "output_type": "stream",
          "text": [
            "time: 8.94 ms (started: 2021-03-15 12:04:45 +00:00)\n"
          ],
          "name": "stdout"
        }
      ]
    },
    {
      "cell_type": "code",
      "metadata": {
        "colab": {
          "base_uri": "https://localhost:8080/"
        },
        "id": "Wb63WVc-kNzz",
        "outputId": "5d1c175b-fe12-4b35-e996-834d5462a147"
      },
      "source": [
        "# how to convert  Matrix to vector? - flatten()\r\n",
        "a.flatten()"
      ],
      "execution_count": null,
      "outputs": [
        {
          "output_type": "execute_result",
          "data": {
            "text/plain": [
              "array([1, 2, 3, 4, 5, 4, 5, 6, 7, 8])"
            ]
          },
          "metadata": {
            "tags": []
          },
          "execution_count": 62
        },
        {
          "output_type": "stream",
          "text": [
            "time: 12.1 ms (started: 2021-03-15 12:04:47 +00:00)\n"
          ],
          "name": "stdout"
        }
      ]
    },
    {
      "cell_type": "code",
      "metadata": {
        "colab": {
          "base_uri": "https://localhost:8080/"
        },
        "id": "-2E97D9Kigwi",
        "outputId": "55b59232-a357-40a3-c16f-9dd60ccada8e"
      },
      "source": [
        "# pre processing\r\n",
        "import os \r\n",
        "import matplotlib.pyplot as plt\r\n",
        "import numpy as np\r\n",
        "from skimage.io import imread\r\n",
        "from skimage.transform import resize\r\n",
        "\r\n",
        "target=[]\r\n",
        "images=[]\r\n",
        "flat_data=[]\r\n",
        "datadir='/content/images'\r\n",
        "CATEGORIES=['Preety sunflower', 'rugby ball leather', 'Icecream cone']\r\n",
        "for category in CATEGORIES:\r\n",
        "    class_num = CATEGORIES.index(category) # label encoding the values\r\n",
        "    path= os.path.join(datadir, category)\r\n",
        "    #print(path)\r\n",
        "    for img in os.listdir(path):\r\n",
        "      img_array=imread(os.path.join(path,img))\r\n",
        "      #plt.imshow(img_array)\r\n",
        "      img_resized=resize(img_array,(150,150,3))\r\n",
        "      flat_data.append(img_resized.flatten())\r\n",
        "      images.append(img_resized)\r\n",
        "      target.append(class_num)\r\n",
        "      \r\n",
        "      \r\n",
        "flat_data=np.array(flat_data)\r\n",
        "target= np.array(target)\r\n",
        "images= np.array(images)\r\n",
        "\r\n",
        "\r\n"
      ],
      "execution_count": null,
      "outputs": [
        {
          "output_type": "stream",
          "text": [
            "time: 1min 38s (started: 2021-03-15 12:04:50 +00:00)\n"
          ],
          "name": "stdout"
        }
      ]
    },
    {
      "cell_type": "code",
      "metadata": {
        "id": "Rv0AITTziwxP",
        "colab": {
          "base_uri": "https://localhost:8080/"
        },
        "outputId": "069305ba-9dbe-4600-e998-7d738a0e78c3"
      },
      "source": [
        "len(flat_data[0])\r\n"
      ],
      "execution_count": null,
      "outputs": [
        {
          "output_type": "execute_result",
          "data": {
            "text/plain": [
              "67500"
            ]
          },
          "metadata": {
            "tags": []
          },
          "execution_count": 64
        },
        {
          "output_type": "stream",
          "text": [
            "time: 10.6 ms (started: 2021-03-15 12:06:35 +00:00)\n"
          ],
          "name": "stdout"
        }
      ]
    },
    {
      "cell_type": "code",
      "metadata": {
        "id": "RrQVPFVwiwzL",
        "colab": {
          "base_uri": "https://localhost:8080/"
        },
        "outputId": "c15047e1-c324-412d-9c8f-73e88999d5b2"
      },
      "source": [
        "150*150*3"
      ],
      "execution_count": null,
      "outputs": [
        {
          "output_type": "execute_result",
          "data": {
            "text/plain": [
              "67500"
            ]
          },
          "metadata": {
            "tags": []
          },
          "execution_count": 65
        },
        {
          "output_type": "stream",
          "text": [
            "time: 4.44 ms (started: 2021-03-15 12:06:37 +00:00)\n"
          ],
          "name": "stdout"
        }
      ]
    },
    {
      "cell_type": "code",
      "metadata": {
        "id": "dDOm7i0viw27",
        "colab": {
          "base_uri": "https://localhost:8080/"
        },
        "outputId": "e5fe9fe5-dee5-4fd4-de5b-593e2269a985"
      },
      "source": [
        "target"
      ],
      "execution_count": null,
      "outputs": [
        {
          "output_type": "execute_result",
          "data": {
            "text/plain": [
              "array([0, 0, 0, 0, 0, 0, 0, 0, 0, 0, 0, 0, 0, 0, 0, 0, 0, 0, 0, 0, 0, 0,\n",
              "       0, 0, 0, 0, 0, 0, 0, 0, 0, 0, 0, 0, 0, 0, 0, 0, 0, 0, 1, 1, 1, 1,\n",
              "       1, 1, 1, 1, 1, 1, 1, 1, 1, 1, 1, 1, 1, 1, 1, 1, 1, 1, 1, 1, 1, 1,\n",
              "       1, 1, 1, 1, 1, 1, 1, 1, 1, 1, 1, 1, 1, 1, 1, 1, 2, 2, 2, 2, 2, 2,\n",
              "       2, 2, 2, 2, 2, 2, 2, 2, 2, 2, 2, 2, 2, 2, 2, 2, 2, 2, 2, 2, 2, 2,\n",
              "       2, 2, 2, 2, 2, 2, 2, 2, 2, 2, 2, 2])"
            ]
          },
          "metadata": {
            "tags": []
          },
          "execution_count": 66
        },
        {
          "output_type": "stream",
          "text": [
            "time: 9.44 ms (started: 2021-03-15 12:06:39 +00:00)\n"
          ],
          "name": "stdout"
        }
      ]
    },
    {
      "cell_type": "code",
      "metadata": {
        "id": "-6XRT_1Giw4s",
        "colab": {
          "base_uri": "https://localhost:8080/",
          "height": 298
        },
        "outputId": "0e99d014-1be5-463e-ca21-a691b0476bd4"
      },
      "source": [
        "unique, count=np.unique(target, return_counts=True)\r\n",
        "plt.bar(CATEGORIES, count)"
      ],
      "execution_count": null,
      "outputs": [
        {
          "output_type": "execute_result",
          "data": {
            "text/plain": [
              "<BarContainer object of 3 artists>"
            ]
          },
          "metadata": {
            "tags": []
          },
          "execution_count": 67
        },
        {
          "output_type": "display_data",
          "data": {
            "image/png": "[encoded data removed]",
            "text/plain": [
              "<Figure size 432x288 with 1 Axes>"
            ]
          },
          "metadata": {
            "tags": [],
            "needs_background": "light"
          }
        },
        {
          "output_type": "stream",
          "text": [
            "time: 191 ms (started: 2021-03-15 12:06:41 +00:00)\n"
          ],
          "name": "stdout"
        }
      ]
    },
    {
      "cell_type": "code",
      "metadata": {
        "id": "iDrvq0Osiw8j",
        "colab": {
          "base_uri": "https://localhost:8080/"
        },
        "outputId": "1aa11588-5b3d-4bf8-a6f7-1b2d96ec9f13"
      },
      "source": [
        "# split data in train and test\r\n",
        "from sklearn.model_selection import train_test_split\r\n",
        "x_train,x_test,y_train, y_test= train_test_split(flat_data,target,\r\n",
        "                                                 test_size=0.3, random_state=42)"
      ],
      "execution_count": null,
      "outputs": [
        {
          "output_type": "stream",
          "text": [
            "time: 35 ms (started: 2021-03-15 12:06:46 +00:00)\n"
          ],
          "name": "stdout"
        }
      ]
    },
    {
      "cell_type": "code",
      "metadata": {
        "colab": {
          "base_uri": "https://localhost:8080/"
        },
        "id": "YRCE3hBob5Ar",
        "outputId": "b9e3b78b-8f01-4d20-bccf-aa2a4d0ab8b8"
      },
      "source": [
        "from sklearn.model_selection import GridSearchCV\r\n",
        "from sklearn import svm\r\n",
        "param_grid=[\r\n",
        "            {'C':[1,10,100,1000], 'kernel':['linear']},\r\n",
        "            {'C':[1,10,100,1000], 'kernel':['rbf']},\r\n",
        "]\r\n",
        "\r\n",
        "svc=svm.SVC(probability=True)\r\n",
        "clf= GridSearchCV(svc, param_grid)\r\n",
        "clf.fit(x_train, y_train)"
      ],
      "execution_count": null,
      "outputs": [
        {
          "output_type": "execute_result",
          "data": {
            "text/plain": [
              "GridSearchCV(cv=None, error_score=nan,\n",
              "             estimator=SVC(C=1.0, break_ties=False, cache_size=200,\n",
              "                           class_weight=None, coef0=0.0,\n",
              "                           decision_function_shape='ovr', degree=3,\n",
              "                           gamma='scale', kernel='rbf', max_iter=-1,\n",
              "                           probability=True, random_state=None, shrinking=True,\n",
              "                           tol=0.001, verbose=False),\n",
              "             iid='deprecated', n_jobs=None,\n",
              "             param_grid=[{'C': [1, 10, 100, 1000], 'kernel': ['linear']},\n",
              "                         {'C': [1, 10, 100, 1000], 'kernel': ['rbf']}],\n",
              "             pre_dispatch='2*n_jobs', refit=True, return_train_score=False,\n",
              "             scoring=None, verbose=0)"
            ]
          },
          "metadata": {
            "tags": []
          },
          "execution_count": 69
        },
        {
          "output_type": "stream",
          "text": [
            "time: 2min 9s (started: 2021-03-15 12:06:52 +00:00)\n"
          ],
          "name": "stdout"
        }
      ]
    },
    {
      "cell_type": "code",
      "metadata": {
        "colab": {
          "base_uri": "https://localhost:8080/"
        },
        "id": "_Ew1cCtxeDyk",
        "outputId": "2856a243-5479-4223-cc6b-14592b460c98"
      },
      "source": [
        "y_pred= clf.predict(x_test)\r\n",
        "y_pred"
      ],
      "execution_count": null,
      "outputs": [
        {
          "output_type": "execute_result",
          "data": {
            "text/plain": [
              "array([0, 1, 1, 2, 0, 1, 0, 2, 0, 1, 1, 2, 1, 0, 2, 0, 1, 1, 2, 0, 0, 1,\n",
              "       1, 2, 0, 1, 2, 2, 0, 2, 0, 0, 1, 0, 2, 2, 2])"
            ]
          },
          "metadata": {
            "tags": []
          },
          "execution_count": 70
        },
        {
          "output_type": "stream",
          "text": [
            "time: 259 ms (started: 2021-03-15 12:09:37 +00:00)\n"
          ],
          "name": "stdout"
        }
      ]
    },
    {
      "cell_type": "code",
      "metadata": {
        "colab": {
          "base_uri": "https://localhost:8080/"
        },
        "id": "NVnF3HtZeM97",
        "outputId": "f4d6542f-ba0e-4b5c-a987-882d807ea717"
      },
      "source": [
        "y_test"
      ],
      "execution_count": null,
      "outputs": [
        {
          "output_type": "execute_result",
          "data": {
            "text/plain": [
              "array([0, 1, 1, 2, 0, 1, 1, 2, 0, 1, 1, 2, 0, 2, 2, 0, 1, 1, 2, 0, 0, 1,\n",
              "       1, 2, 0, 1, 2, 2, 0, 2, 0, 0, 1, 0, 2, 2, 2])"
            ]
          },
          "metadata": {
            "tags": []
          },
          "execution_count": 71
        },
        {
          "output_type": "stream",
          "text": [
            "time: 12.7 ms (started: 2021-03-15 12:09:41 +00:00)\n"
          ],
          "name": "stdout"
        }
      ]
    },
    {
      "cell_type": "code",
      "metadata": {
        "colab": {
          "base_uri": "https://localhost:8080/"
        },
        "id": "ClbErAxoc9sL",
        "outputId": "7e1b0951-c89b-4da8-9381-f74e5ec82eb3"
      },
      "source": [
        "from sklearn.metrics import accuracy_score, confusion_matrix"
      ],
      "execution_count": null,
      "outputs": [
        {
          "output_type": "stream",
          "text": [
            "time: 954 µs (started: 2021-03-15 12:09:49 +00:00)\n"
          ],
          "name": "stdout"
        }
      ]
    },
    {
      "cell_type": "code",
      "metadata": {
        "colab": {
          "base_uri": "https://localhost:8080/"
        },
        "id": "Yid0CVMZdxQU",
        "outputId": "257a3ea7-4ea5-4007-9f3f-242667be00b7"
      },
      "source": [
        "accuracy_score(y_pred,y_test)"
      ],
      "execution_count": null,
      "outputs": [
        {
          "output_type": "execute_result",
          "data": {
            "text/plain": [
              "0.918918918918919"
            ]
          },
          "metadata": {
            "tags": []
          },
          "execution_count": 73
        },
        {
          "output_type": "stream",
          "text": [
            "time: 14.9 ms (started: 2021-03-15 12:09:53 +00:00)\n"
          ],
          "name": "stdout"
        }
      ]
    },
    {
      "cell_type": "code",
      "metadata": {
        "colab": {
          "base_uri": "https://localhost:8080/"
        },
        "id": "ikLhk0RVd5uD",
        "outputId": "73f97475-2478-4d1c-afd6-eec3197c81bd"
      },
      "source": [
        "confusion_matrix(y_pred, y_test)"
      ],
      "execution_count": null,
      "outputs": [
        {
          "output_type": "execute_result",
          "data": {
            "text/plain": [
              "array([[11,  1,  1],\n",
              "       [ 1, 11,  0],\n",
              "       [ 0,  0, 12]])"
            ]
          },
          "metadata": {
            "tags": []
          },
          "execution_count": 74
        },
        {
          "output_type": "stream",
          "text": [
            "time: 10.5 ms (started: 2021-03-15 12:09:55 +00:00)\n"
          ],
          "name": "stdout"
        }
      ]
    },
    {
      "cell_type": "code",
      "metadata": {
        "colab": {
          "base_uri": "https://localhost:8080/"
        },
        "id": "zYoFNYBdeiM-",
        "outputId": "e934645f-96df-4173-c2d7-f37a959ace20"
      },
      "source": [
        "# save the model using pikle\r\n",
        "import pickle\r\n",
        "pickle.dump(clf, open('img_model.p', 'wb'))"
      ],
      "execution_count": null,
      "outputs": [
        {
          "output_type": "stream",
          "text": [
            "time: 74 ms (started: 2021-03-15 12:10:01 +00:00)\n"
          ],
          "name": "stdout"
        }
      ]
    },
    {
      "cell_type": "code",
      "metadata": {
        "colab": {
          "base_uri": "https://localhost:8080/"
        },
        "id": "MIiHdKMEe7M2",
        "outputId": "80e13860-3a09-4d21-d757-7cd1172bb4b2"
      },
      "source": [
        "model=pickle.load(open('img_model.p', 'rb'))"
      ],
      "execution_count": null,
      "outputs": [
        {
          "output_type": "stream",
          "text": [
            "time: 29.6 ms (started: 2021-03-15 12:10:14 +00:00)\n"
          ],
          "name": "stdout"
        }
      ]
    },
    {
      "cell_type": "code",
      "metadata": {
        "colab": {
          "base_uri": "https://localhost:8080/",
          "height": 356
        },
        "id": "X0bbEGPQfJmK",
        "outputId": "afaad95c-2bab-47d2-bb37-35824aa2da6c"
      },
      "source": [
        "# testing a brand new image\r\n",
        "flat_data=[]\r\n",
        "url=input('Enter your URL')\r\n",
        "img= imread(url)\r\n",
        "img_resized= resize(img, (150,150,3))\r\n",
        "flat_data.append(img_resized.flatten())\r\n",
        "flat_data= np.array(flat_data)\r\n",
        "print(img.shape)\r\n",
        "plt.imshow(img_resized)\r\n",
        "y_out= model.predict(flat_data)\r\n",
        "y_out=CATEGORIES[y_out[0]]\r\n",
        "print(f'PREDICTED OUTPUT: {y_out}')"
      ],
      "execution_count": null,
      "outputs": [
        {
          "output_type": "stream",
          "text": [
            "Enter your URLhttps://upload.wikimedia.org/wikipedia/commons/thumb/a/a0/Ice_cream_cone_.jpg/330px-Ice_cream_cone_.jpg\n",
            "(440, 330, 3)\n",
            "PREDICTED OUTPUT: Icecream cone\n"
          ],
          "name": "stdout"
        },
        {
          "output_type": "display_data",
          "data": {
            "image/png": "[encoded data removed]",
            "text/plain": [
              "<Figure size 432x288 with 1 Axes>"
            ]
          },
          "metadata": {
            "tags": [],
            "needs_background": "light"
          }
        },
        {
          "output_type": "stream",
          "text": [
            "time: 33min 28s (started: 2021-03-15 12:15:03 +00:00)\n"
          ],
          "name": "stdout"
        }
      ]
    },
    {
      "cell_type": "code",
      "metadata": {
        "id": "c9e1_pEQr15m"
      },
      "source": [
        ""
      ],
      "execution_count": null,
      "outputs": []
    },
    {
      "cell_type": "code",
      "metadata": {
        "id": "VQy_SQ4StD3K"
      },
      "source": [
        ""
      ],
      "execution_count": null,
      "outputs": []
    }
  ]
}